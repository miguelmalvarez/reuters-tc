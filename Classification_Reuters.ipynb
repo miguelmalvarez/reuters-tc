{
 "cells": [
  {
   "cell_type": "markdown",
   "metadata": {},
   "source": [
    "# Classification"
   ]
  },
  {
   "cell_type": "code",
   "execution_count": 46,
   "metadata": {},
   "outputs": [],
   "source": [
    "from nltk.corpus import reuters\n",
    "import spacy\n",
    "import re\n",
    "\n",
    "from sklearn.feature_extraction.text import TfidfVectorizer\n",
    "from sklearn.preprocessing import MultiLabelBinarizer\n",
    "from sklearn.svm import LinearSVC\n",
    "from sklearn.multiclass import OneVsRestClassifier\n",
    "from sklearn.metrics import f1_score, precision_score, recall_score\n",
    "\n",
    "nlp = spacy.load(\"en_core_web_sm\")\n",
    "\n",
    "def tokenize(text):\n",
    "    min_length = 3\n",
    "    tokens = [word.lemma_ for word in nlp(text) if not word.is_stop]\n",
    "    p = re.compile('[a-zA-Z]+');\n",
    "    filtered_tokens = list(filter (lambda token: p.match(token) and len(token) >= min_length,tokens))\n",
    "    return filtered_tokens\n",
    "\n",
    "def represent(train_docs, test_docs, representer):\n",
    "    # Learn and transform train documents\n",
    "    vectorised_train_documents = representer.fit_transform(train_docs)\n",
    "    vectorised_test_documents = representer.transform(test_docs)\n",
    "\n",
    "    # Transform multilabel labels\n",
    "    mlb = MultiLabelBinarizer()\n",
    "    train_labels = mlb.fit_transform([reuters.categories(doc_id) for doc_id in train_docs_id]) \n",
    "    test_labels = mlb.transform([reuters.categories(doc_id) for doc_id in test_docs_id])\n",
    "    \n",
    "    return (vectorised_train_documents, train_labels, vectorised_test_documents, test_labels)\n",
    "\n",
    "def evaluate(test_labels, predictions):\n",
    "    precision = precision_score(test_labels, predictions, average='micro')\n",
    "    recall = recall_score(test_labels, predictions, average='micro')\n",
    "    f1 = f1_score(test_labels, predictions, average='micro')\n",
    "    print(\"Micro-average quality numbers\")\n",
    "    print(\"Precision: {:.4f}, Recall: {:.4f}, F1-measure: {:.4f}\".format(precision, recall, f1))\n",
    "\n",
    "    precision = precision_score(test_labels, predictions, average='macro')\n",
    "    recall = recall_score(test_labels, predictions, average='macro')\n",
    "    f1 = f1_score(test_labels, predictions, average='macro')\n",
    "\n",
    "    print(\"Macro-average quality numbers\")\n",
    "    print(\"Precision: {:.4f}, Recall: {:.4f}, F1-measure: {:.4f}\".format(precision, recall, f1))"
   ]
  },
  {
   "cell_type": "code",
   "execution_count": 47,
   "metadata": {},
   "outputs": [],
   "source": [
    "documents = reuters.fileids()\n",
    "\n",
    "train_docs_id = list(filter(lambda doc: doc.startswith(\"train\"), documents))\n",
    "test_docs_id = list(filter(lambda doc: doc.startswith(\"test\"), documents))\n",
    "\n",
    "train_docs = [reuters.raw(doc_id) for doc_id in train_docs_id]\n",
    "test_docs = [reuters.raw(doc_id) for doc_id in test_docs_id]"
   ]
  },
  {
   "cell_type": "code",
   "execution_count": 48,
   "metadata": {},
   "outputs": [],
   "source": [
    "candidate = {'representer': TfidfVectorizer(tokenizer=tokenize),\n",
    "             'estimator': OneVsRestClassifier(LinearSVC(random_state=42))}\n",
    "\n",
    "train_docs, train_labels, test_docs, test_labels = represent(train_docs, test_docs, candidate['representer'])"
   ]
  },
  {
   "cell_type": "code",
   "execution_count": 49,
   "metadata": {},
   "outputs": [
    {
     "name": "stdout",
     "output_type": "stream",
     "text": [
      "Micro-average quality numbers\n",
      "Precision: 0.9468, Recall: 0.8032, F1-measure: 0.8691\n",
      "Macro-average quality numbers\n",
      "Precision: 0.6397, Recall: 0.3984, F1-measure: 0.4693\n"
     ]
    },
    {
     "name": "stderr",
     "output_type": "stream",
     "text": [
      "/home/miguel/anaconda3/envs/reuters/lib/python3.8/site-packages/sklearn/metrics/_classification.py:1245: UndefinedMetricWarning: Precision is ill-defined and being set to 0.0 in labels with no predicted samples. Use `zero_division` parameter to control this behavior.\n",
      "  _warn_prf(average, modifier, msg_start, len(result))\n"
     ]
    }
   ],
   "source": [
    "candidate['estimator'].fit(train_docs, train_labels)\n",
    "predictions = candidate['estimator'].predict(test_docs)\n",
    "evaluate(test_labels, predictions)"
   ]
  },
  {
   "cell_type": "code",
   "execution_count": null,
   "metadata": {},
   "outputs": [],
   "source": []
  },
  {
   "cell_type": "code",
   "execution_count": null,
   "metadata": {},
   "outputs": [],
   "source": [
    "# Test with word2vec"
   ]
  },
  {
   "cell_type": "code",
   "execution_count": null,
   "metadata": {},
   "outputs": [],
   "source": [
    "from gensim.scripts.glove2word2vec import glove2word2vec\n",
    "\n",
    "glove_path = './'\n",
    "word2vec_output_file = glove_filename+'.word2vec'\n",
    "glove2word2vec(glove_path, word2vec_output_file)"
   ]
  },
  {
   "cell_type": "code",
   "execution_count": null,
   "metadata": {},
   "outputs": [],
   "source": [
    "word2vec_output_file = glove_filename+'.word2vec'\n",
    "model = KeyedVectors.load_word2vec_format(word2vec_output_file, binary=False)\n",
    "\n",
    "#Show a word embedding\n",
    "print('King: ',model.get_vector('king'))\n",
    "\n",
    "result = model.most_similar(positive=['woman', 'king'], negative=['man'], topn=1)\n",
    "\n",
    "print('Most similar word to King + Woman: ', result)\n"
   ]
  },
  {
   "cell_type": "code",
   "execution_count": null,
   "metadata": {},
   "outputs": [],
   "source": [
    "candidate = {'representer': TfidfVectorizer(tokenizer=tokenize),\n",
    "             'estimator': OneVsRestClassifier(LinearSVC(random_state=42))}\n",
    "\n",
    "train_docs, train_labels, test_docs, test_labels = represent(train_docs, test_docs, candidate['representer'])"
   ]
  }
 ],
 "metadata": {
  "kernelspec": {
   "display_name": "Python (reuters)",
   "language": "python",
   "name": "reuters"
  },
  "language_info": {
   "codemirror_mode": {
    "name": "ipython",
    "version": 3
   },
   "file_extension": ".py",
   "mimetype": "text/x-python",
   "name": "python",
   "nbconvert_exporter": "python",
   "pygments_lexer": "ipython3",
   "version": "3.8.5"
  }
 },
 "nbformat": 4,
 "nbformat_minor": 1
}
