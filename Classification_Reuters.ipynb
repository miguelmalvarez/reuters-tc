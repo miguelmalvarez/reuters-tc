{
 "cells": [
  {
   "cell_type": "markdown",
   "metadata": {},
   "source": [
    "# Classification"
   ]
  },
  {
   "cell_type": "code",
   "execution_count": null,
   "metadata": {},
   "outputs": [],
   "source": [
    "from nltk.corpus import reuters\n",
    "import spacy\n",
    "import re\n",
    "import numpy as np\n",
    "\n",
    "from sklearn.feature_extraction.text import TfidfVectorizer\n",
    "from sklearn.preprocessing import MultiLabelBinarizer\n",
    "from sklearn.svm import LinearSVC\n",
    "from sklearn.multiclass import OneVsRestClassifier\n",
    "from sklearn.metrics import f1_score, precision_score, recall_score\n",
    "nlp = spacy.load(\"en_core_web_md\")\n",
    "\n",
    "\n",
    "def tokenize(text):\n",
    "    min_length = 3\n",
    "    tokens = [word.lemma_ for word in nlp(text) if not word.is_stop]\n",
    "    p = re.compile('[a-zA-Z]+');\n",
    "    filtered_tokens = list(filter (lambda token: p.match(token) and len(token) >= min_length,tokens))\n",
    "    return filtered_tokens    \n",
    "\n",
    "def represent_tfidf(train_docs, test_docs):\n",
    "    representer = TfidfVectorizer(tokenizer=tokenize)\n",
    "    # Learn and transform train documents\n",
    "    vectorised_train_documents = representer.fit_transform(train_docs)\n",
    "    vectorised_test_documents = representer.transform(test_docs)    \n",
    "    return vectorised_train_documents, vectorised_test_documents\n",
    "\n",
    "def doc2vec(text):\n",
    "    min_length = 3\n",
    "    p = re.compile('[a-zA-Z]+')\n",
    "    tokens = [token for token in nlp(text) if not token.is_stop and \n",
    "              p.match(token.text) and \n",
    "              len(token.text) >= min_length]\n",
    "    doc = np.average([token.vector for token in tokens], axis=0)\n",
    "    return doc\n",
    "\n",
    "def represent_doc2vec(train_docs, test_docs):\n",
    "    vectorised_train_documents = [doc2vec(doc) for doc in train_docs]\n",
    "    vectorised_test_documents = [doc2vec(doc) for doc in test_docs]\n",
    "    return vectorised_train_documents, vectorised_test_documents\n",
    "\n",
    "def evaluate(test_labels, predictions):\n",
    "    precision = precision_score(test_labels, predictions, average='micro')\n",
    "    recall = recall_score(test_labels, predictions, average='micro')\n",
    "    f1 = f1_score(test_labels, predictions, average='micro')\n",
    "    print(\"Micro-average quality numbers\")\n",
    "    print(\"Precision: {:.4f}, Recall: {:.4f}, F1-measure: {:.4f}\".format(precision, recall, f1))\n",
    "\n",
    "    precision = precision_score(test_labels, predictions, average='macro')\n",
    "    recall = recall_score(test_labels, predictions, average='macro')\n",
    "    f1 = f1_score(test_labels, predictions, average='macro')\n",
    "\n",
    "    print(\"Macro-average quality numbers\")\n",
    "    print(\"Precision: {:.4f}, Recall: {:.4f}, F1-measure: {:.4f}\".format(precision, recall, f1))"
   ]
  },
  {
   "cell_type": "code",
   "execution_count": null,
   "metadata": {},
   "outputs": [],
   "source": [
    "documents = reuters.fileids()\n",
    "\n",
    "train_docs_id = list(filter(lambda doc: doc.startswith(\"train\"), documents))\n",
    "test_docs_id = list(filter(lambda doc: doc.startswith(\"test\"), documents))\n",
    "\n",
    "train_docs = [reuters.raw(doc_id) for doc_id in train_docs_id]\n",
    "test_docs = [reuters.raw(doc_id) for doc_id in test_docs_id]"
   ]
  },
  {
   "cell_type": "code",
   "execution_count": null,
   "metadata": {},
   "outputs": [],
   "source": [
    "# Transform multilabel labels\n",
    "mlb = MultiLabelBinarizer()\n",
    "train_labels = mlb.fit_transform([reuters.categories(doc_id) for doc_id in train_docs_id]) \n",
    "test_labels = mlb.transform([reuters.categories(doc_id) for doc_id in test_docs_id])"
   ]
  },
  {
   "cell_type": "code",
   "execution_count": null,
   "metadata": {},
   "outputs": [],
   "source": [
    "# TFIDF Experiment\n",
    "\n",
    "model = OneVsRestClassifier(LinearSVC(random_state=42))\n",
    "vectorised_train_docs, vectorised_test_docs = represent_tfidf(train_docs, test_docs)\n",
    "\n",
    "model.fit(vectorised_train_docs, train_labels)\n",
    "predictions = model.predict(vectorised_test_docs)\n",
    "evaluate(test_labels, predictions)"
   ]
  },
  {
   "cell_type": "code",
   "execution_count": null,
   "metadata": {
    "scrolled": true
   },
   "outputs": [],
   "source": [
    "# Embeddings Experiment\n",
    "\n",
    "model = OneVsRestClassifier(LinearSVC(random_state=42))\n",
    "vectorised_train_docs, vectorised_test_docs = represent_doc2vec(train_docs, test_docs)\n",
    "\n",
    "model.fit(vectorised_train_docs, train_labels)\n",
    "predictions = model.predict(vectorised_test_docs)\n",
    "evaluate(test_labels, predictions)"
   ]
  }
 ],
 "metadata": {
  "kernelspec": {
   "display_name": "Python (reuters)",
   "language": "python",
   "name": "reuters"
  },
  "language_info": {
   "codemirror_mode": {
    "name": "ipython",
    "version": 3
   },
   "file_extension": ".py",
   "mimetype": "text/x-python",
   "name": "python",
   "nbconvert_exporter": "python",
   "pygments_lexer": "ipython3",
   "version": "3.8.5"
  }
 },
 "nbformat": 4,
 "nbformat_minor": 1
}
