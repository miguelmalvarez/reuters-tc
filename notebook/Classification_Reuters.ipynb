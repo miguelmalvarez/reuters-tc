{
 "cells": [
  {
   "cell_type": "markdown",
   "metadata": {},
   "source": [
    "# Representation of the collection"
   ]
  },
  {
   "cell_type": "code",
   "execution_count": null,
   "metadata": {
    "collapsed": false
   },
   "outputs": [],
   "source": [
    "from nltk.corpus import stopwords, reuters\n",
    "from sklearn.feature_extraction.text import TfidfVectorizer\n",
    "from sklearn.preprocessing import MultiLabelBinarizer\n",
    "from sklearn.svm import LinearSVC, SVC\n",
    "from sklearn.multiclass import OneVsRestClassifier\n",
    "from sklearn.neighbors import KNeighborsClassifier\n",
    "\n",
    "def parse_collection():\n",
    "    documents = reuters.fileids()\n",
    "    train_docs_id = list(filter(lambda doc: doc.startswith(\"train\"), documents))\n",
    "    test_docs_id = list(filter(lambda doc: doc.startswith(\"test\"), documents))\n",
    "\n",
    "    train_docs = [reuters.raw(doc_id) for doc_id in train_docs_id]\n",
    "    test_docs = [reuters.raw(doc_id) for doc_id in test_docs_id]\n",
    "    \n",
    "    train_labels = [reuters.categories(doc_id) for doc_id in train_docs_id]\n",
    "    test_labels = [reuters.categories(doc_id) for doc_id in test_docs_id]\n",
    "    \n",
    "    return (train_docs, test_docs, train_labels, test_labels)\n",
    "\n",
    "def represent_collection(representer, train_docs, test_docs, train_labels, test_labels):\n",
    "    # Learn and transform train documents\n",
    "    vectorised_train_documents = representer.fit_transform(train_docs)\n",
    "    vectorised_test_documents = representer.transform(test_docs)\n",
    "\n",
    "    # Transform multilabel labels\n",
    "    mlb = MultiLabelBinarizer()\n",
    "    multilabel_train_labels = mlb.fit_transform(train_labels)\n",
    "    multilable_test_labels = mlb.transform(test_labels)\n",
    "    \n",
    "    return (vectorised_train_documents, vectorised_test_documents, multilabel_train_labels, multilable_test_labels)"
   ]
  },
  {
   "cell_type": "markdown",
   "metadata": {},
   "source": [
    "# Classification training and prediction"
   ]
  },
  {
   "cell_type": "code",
   "execution_count": null,
   "metadata": {
    "collapsed": false
   },
   "outputs": [],
   "source": [
    "def train_and_predict(classifier, train_docs, train_labels, test_docs):\n",
    "    classifier.fit(train_docs, train_labels)\n",
    "    predictions = classifier.predict(test_docs)\n",
    "    return predictions"
   ]
  },
  {
   "cell_type": "markdown",
   "metadata": {},
   "source": [
    "# How well have we done?\n",
    "\n",
    "This section will evaluate our solution using Precision, Recall and F1."
   ]
  },
  {
   "cell_type": "code",
   "execution_count": null,
   "metadata": {
    "collapsed": false
   },
   "outputs": [],
   "source": [
    "from sklearn.metrics import f1_score, precision_score, recall_score\n",
    "\n",
    "def quality_metrics(labels, predictions, average='micro'):\n",
    "    precision = precision_score(labels, predictions, average=average)\n",
    "    recall = recall_score(labels, predictions, average=average)\n",
    "    f1 = f1_score(labels, predictions, average=average)\n",
    "    return [precision, recall, f1]"
   ]
  },
  {
   "cell_type": "code",
   "execution_count": null,
   "metadata": {
    "collapsed": false
   },
   "outputs": [],
   "source": [
    "def evaluate_model(representer, classifier, description):\n",
    "    # Representation\n",
    "    train_docs, test_docs, train_labels, test_labels = parse_collection()\n",
    "    train_docs, test_docs, train_labels, test_labels = represent_collection(representer, \n",
    "                                                                            train_docs, test_docs, \n",
    "                                                                            train_labels, test_labels)\n",
    "    print(\"{} training documents\".format(train_docs.shape[0]))\n",
    "    print(\"{} testing documents\".format(test_docs.shape[0]))\n",
    "\n",
    "    # Training and prediction\n",
    "    predictions = train_and_predict(classifier, train_docs, train_labels, test_docs)\n",
    "    print(\"{} labels predicted for {} documents\"\n",
    "          .format(sum([sum(prediction) for prediction in predictions]),test_docs.shape[0]))\n",
    "    print()\n",
    "\n",
    "    micro_quality_metrics = quality_metrics(test_labels, predictions)\n",
    "    macro_quality_metrics =quality_metrics(test_labels, predictions, average='macro')\n",
    "    # Evalaution\n",
    "    print(\"Running: \"+description)\n",
    "    print(\"Micro-average quality numbers\")\n",
    "    print(\"Precision: {:.4f}, Recall: {:.4f}, F1-measure: {:.4f}\".format(*micro_quality_metrics))\n",
    "    print()\n",
    "    \n",
    "    print(\"Macro-average quality numbers\")\n",
    "    print(\"Precision: {:.4f}, Recall: {:.4f}, F1-measure: {:.4f}\".format(*macro_quality_metrics))\n",
    "    print()\n",
    "    return {'micro': micro_quality_metrics, \n",
    "            'macro': macro_quality_metrics}\n",
    "    \n",
    "random_state = 42\n",
    "# First model \n",
    "stop_words = stopwords.words(\"english\")\n",
    "vectorizer = TfidfVectorizer(stop_words=stop_words)\n",
    "classifier = OneVsRestClassifier(LinearSVC(random_state=random_state))\n",
    "q1 = evaluate_model(vectorizer, classifier, 'TFIDF LinearSVC')\n",
    "\n",
    "# Second model \n",
    "stop_words = stopwords.words(\"english\")\n",
    "vectorizer = TfidfVectorizer(stop_words=stop_words, min_df=2,\n",
    "                             max_df=0.90,\n",
    "                             use_idf=True, sublinear_tf=True,\n",
    "                             norm='l2');\n",
    "classifier = OneVsRestClassifier(LinearSVC(random_state=random_state))\n",
    "q2 = evaluate_model(vectorizer, classifier, 'TFIDF minDF 3, max DF 90, L2, sublinear, LinearSVC')\n",
    "\n",
    "# Third model\n",
    "stop_words = stopwords.words(\"english\")\n",
    "vectorizer = TfidfVectorizer(stop_words=stop_words, min_df=2,\n",
    "                             max_df=0.90, max_features = 3000,\n",
    "                             use_idf=True, sublinear_tf=True,\n",
    "                             norm='l2');\n",
    "classifier = KNeighborsClassifier()\n",
    "classifier.n_neighbors=45\n",
    "classifier.random_state = random_state\n",
    "q3 = evaluate_model(vectorizer, classifier, 'minDF 2, max DF 90, L2, sublinear, kNN 45')\n",
    "\n",
    "print(q1)\n",
    "print(q2)\n",
    "print(q3)\n"
   ]
  },
  {
   "cell_type": "code",
   "execution_count": null,
   "metadata": {
    "collapsed": true
   },
   "outputs": [],
   "source": []
  }
 ],
 "metadata": {
  "kernelspec": {
   "display_name": "Python 3",
   "language": "python",
   "name": "python3"
  },
  "language_info": {
   "codemirror_mode": {
    "name": "ipython",
    "version": 3
   },
   "file_extension": ".py",
   "mimetype": "text/x-python",
   "name": "python",
   "nbconvert_exporter": "python",
   "pygments_lexer": "ipython3",
   "version": "3.5.1"
  }
 },
 "nbformat": 4,
 "nbformat_minor": 0
}
