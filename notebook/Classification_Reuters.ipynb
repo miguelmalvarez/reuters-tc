{
 "cells": [
  {
   "cell_type": "markdown",
   "metadata": {},
   "source": [
    "# Representation of the collection"
   ]
  },
  {
   "cell_type": "code",
   "execution_count": null,
   "metadata": {
    "collapsed": false
   },
   "outputs": [],
   "source": [
    "from nltk.corpus import stopwords, reuters\n",
    "from sklearn.feature_extraction.text import TfidfVectorizer\n",
    "from sklearn.preprocessing import MultiLabelBinarizer\n",
    "from sklearn.svm import LinearSVC\n",
    "from sklearn.multiclass import OneVsRestClassifier\n",
    "\n",
    "def parse_collection():\n",
    "    documents = reuters.fileids()\n",
    "    train_docs_id = list(filter(lambda doc: doc.startswith(\"train\"), documents))\n",
    "    test_docs_id = list(filter(lambda doc: doc.startswith(\"test\"), documents))\n",
    "\n",
    "    train_docs = [reuters.raw(doc_id) for doc_id in train_docs_id]\n",
    "    test_docs = [reuters.raw(doc_id) for doc_id in test_docs_id]\n",
    "    \n",
    "    train_labels = [reuters.categories(doc_id) for doc_id in train_docs_id]\n",
    "    test_labels = [reuters.categories(doc_id) for doc_id in test_docs_id]\n",
    "    \n",
    "    return (train_docs, test_docs, train_labels, test_labels)\n",
    "\n",
    "def represent_collection(representer, train_docs, test_docs, train_labels, test_labels):\n",
    "    # Learn and transform train documents\n",
    "    vectorised_train_documents = representer.fit_transform(train_docs)\n",
    "    vectorised_test_documents = representer.transform(test_docs)\n",
    "\n",
    "    # Transform multilabel labels\n",
    "    mlb = MultiLabelBinarizer()\n",
    "    multilabel_train_labels = mlb.fit_transform(train_labels)\n",
    "    multilable_test_labels = mlb.transform(test_labels)\n",
    "    \n",
    "    return (vectorised_train_documents, vectorised_test_documents, multilabel_train_labels, multilable_test_labels)\n",
    "\n",
    "# Tokenisation \n",
    "stop_words = stopwords.words(\"english\")\n",
    "vectorizer = TfidfVectorizer(stop_words=stop_words)\n",
    "\n",
    "train_docs, test_docs, train_labels, test_labels = parse_collection()\n",
    "train_docs, test_docs, train_labels, test_labels = represent_collection(vectorizer, \n",
    "                                                                        train_docs, test_docs, \n",
    "                                                                        train_labels, test_labels)\n",
    "\n",
    "print(\"{} training documents\".format(train_docs.shape[0]))\n",
    "print(\"{} testing documents\".format(test_docs.shape[0]))"
   ]
  },
  {
   "cell_type": "markdown",
   "metadata": {},
   "source": [
    "# Classification training and prediction"
   ]
  },
  {
   "cell_type": "code",
   "execution_count": null,
   "metadata": {
    "collapsed": false
   },
   "outputs": [],
   "source": [
    "classifier = OneVsRestClassifier(LinearSVC(random_state=42))\n",
    "classifier.fit(vectorised_train_documents, train_labels)\n",
    "predictions = classifier.predict(vectorised_test_documents)\n",
    "print(\"{} labels predicted for {} documents\".format(sum([sum(prediction) for prediction in predictions]),\n",
    "                                                    len(test_docs)))"
   ]
  },
  {
   "cell_type": "markdown",
   "metadata": {},
   "source": [
    "# How well have we done?\n",
    "\n",
    "This section will evaluate our solution using Precision, Recall and F1."
   ]
  },
  {
   "cell_type": "code",
   "execution_count": null,
   "metadata": {
    "collapsed": false
   },
   "outputs": [],
   "source": [
    "from sklearn.metrics import f1_score, precision_score, recall_score\n",
    "\n",
    "# Show our quality\n",
    "precision = precision_score(test_labels, predictions, average='micro')\n",
    "recall = recall_score(test_labels, predictions, average='micro')\n",
    "f1 = f1_score(test_labels, predictions, average='micro')\n",
    "print(\"Micro-average quality numbers\")\n",
    "print(\"Precision: {:.4f}, Recall: {:.4f}, F1-measure: {:.4f}\".format(precision, \n",
    "                                                                     recall, \n",
    "                                                                     f1))\n",
    "print()\n",
    "\n",
    "precision = precision_score(test_labels, predictions, average='macro')\n",
    "recall = recall_score(test_labels, predictions, average='macro')\n",
    "f1 = f1_score(test_labels, predictions, average='macro')\n",
    "print(\"Macro-average quality numbers\")\n",
    "print(\"Precision: {:.4f}, Recall: {:.4f}, F1-measure: {:.4f}\".format(precision, \n",
    "                                                                     recall, \n",
    "                                                                     f1))\n",
    "print()\n"
   ]
  },
  {
   "cell_type": "code",
   "execution_count": null,
   "metadata": {
    "collapsed": true
   },
   "outputs": [],
   "source": []
  }
 ],
 "metadata": {
  "kernelspec": {
   "display_name": "Python 3",
   "language": "python",
   "name": "python3"
  },
  "language_info": {
   "codemirror_mode": {
    "name": "ipython",
    "version": 3
   },
   "file_extension": ".py",
   "mimetype": "text/x-python",
   "name": "python",
   "nbconvert_exporter": "python",
   "pygments_lexer": "ipython3",
   "version": "3.5.1"
  }
 },
 "nbformat": 4,
 "nbformat_minor": 0
}
